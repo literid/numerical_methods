{
 "cells": [
  {
   "cell_type": "code",
   "execution_count": 1,
   "id": "deb314bb",
   "metadata": {},
   "outputs": [],
   "source": [
    "import numpy as np\n",
    "import matplotlib.pyplot as plt\n",
    "import seaborn as sns\n",
    "import matplotlib as mpl\n",
    "sns.set_style('whitegrid')\n",
    "mpl.rcParams['figure.figsize'] = [10.0, 7.0]"
   ]
  },
  {
   "cell_type": "code",
   "execution_count": 2,
   "id": "2cde023a",
   "metadata": {},
   "outputs": [],
   "source": [
    "def dichotomy(f, a , b , eps=1e-10, max_iter_count=None):\n",
    "    if f(a) * f(b) > 0:\n",
    "        raise TypeError(\"dichotomy method is not applicable for this function: f(a)*f(b) > 0\")\n",
    "    \n",
    "    def iteration(a,b,c):\n",
    "        if f(c) * f(b) > 0:\n",
    "            a = a\n",
    "            b = c\n",
    "        elif f(c) * f(b) < 0:\n",
    "            a = c\n",
    "            b = b\n",
    "        c = (a + b) / 2\n",
    "        return a, b, c\n",
    "    \n",
    "    c = (a + b) / 2\n",
    "    a1, b1, c1 = iteration(a,b,c)\n",
    "    iter_count = 1\n",
    "    \n",
    "    if max_iter_count is None:\n",
    "        while abs(c1 - c) >= eps:\n",
    "            iter_count += 1\n",
    "            c = c1\n",
    "            a1, b1, c1 = iteration(a1,b1,c1)\n",
    "        \n",
    "        return c1,iter_count\n",
    "    else:\n",
    "        while iter_count < max_iter_count:\n",
    "            iter_count += 1\n",
    "            c = c1\n",
    "            a1, b1, c1 = iteration(a1,b1,c1)\n",
    "            \n",
    "        return c1, iter_count"
   ]
  },
  {
   "cell_type": "code",
   "execution_count": 3,
   "id": "1360ae65",
   "metadata": {},
   "outputs": [],
   "source": [
    "def dichotomy_iter_count(b,a,eps=1e-10):\n",
    "    return np.floor(np.log2((b - a) / eps))"
   ]
  },
  {
   "cell_type": "code",
   "execution_count": 4,
   "id": "41c9f687",
   "metadata": {},
   "outputs": [],
   "source": [
    "def newton(f, a, b, eps=1e-10, fprime=None, max_iter_count=None):\n",
    "    x0 = b\n",
    "    x1 = x0 - f(x0) / fprime(x0)\n",
    "    iter_count = 1\n",
    "    \n",
    "    if max_iter_count is None:\n",
    "        while abs(x1 - x0) >= eps:\n",
    "            iter_count += 1\n",
    "            x0 = x1\n",
    "            x1 = x0 - f(x0) / fprime(x0)\n",
    "\n",
    "        return x1,iter_count\n",
    "    else:\n",
    "        while iter_count < max_iter_count:\n",
    "            iter_count += 1\n",
    "            x0 = x1\n",
    "            x1 = x0 - f(x0) / fprime(x0)\n",
    "\n",
    "        return x1,iter_count"
   ]
  },
  {
   "cell_type": "code",
   "execution_count": 5,
   "id": "6731511a",
   "metadata": {},
   "outputs": [],
   "source": [
    "def chord(f, a, b, eps=1e-10, max_iter_count=None):\n",
    "    x0 = (a + b) / 2\n",
    "    x1 = x0 - (b-a) / 10\n",
    "    \n",
    "    def iteration(x0,x1):\n",
    "        x2 = x1 - (f(x1) * (x1 - x0)) / (f(x1) - f(x0))\n",
    "        return x2\n",
    "        \n",
    "    x2 = iteration(x0,x1)\n",
    "    iter_count=1\n",
    "    \n",
    "    if max_iter_count is None:  \n",
    "        while abs(x2 - x1) >= eps:\n",
    "            iter_count += 1\n",
    "            x0 = x1\n",
    "            x1 = x2 \n",
    "            x2 = iteration(x0,x1)\n",
    "\n",
    "        return x2, iter_count\n",
    "    else:\n",
    "        while iter_count < max_iter_count:\n",
    "            iter_count += 1\n",
    "            x0 = x1\n",
    "            x1 = x2 \n",
    "            x2 = iteration(x0,x1)\n",
    "            \n",
    "        return x2, iter_count"
   ]
  },
  {
   "cell_type": "code",
   "execution_count": 6,
   "id": "97df4696",
   "metadata": {},
   "outputs": [],
   "source": [
    "def x_n(n,method,f,a,b,fprime=None):\n",
    "    if fprime is None:\n",
    "        return method(f,a,b,max_iter_count=n)[0]\n",
    "    else:\n",
    "        return method(f,a,b,fprime=fprime,max_iter_count=n)[0]"
   ]
  },
  {
   "cell_type": "markdown",
   "id": "3aade94a",
   "metadata": {},
   "source": [
    "#### Уровень сходимости\n",
    "$R\\approx \\frac{\\log(\\frac{{x_{n+1}} - {x_{n}}}{{x_{n}} - {x_{n-1}}})}\n",
    "{\\log(\\frac{{x_{n}} - {x_{n-1}}}{{x_{n-1}} - {x_{n-2}}})}  $"
   ]
  },
  {
   "cell_type": "code",
   "execution_count": 7,
   "id": "9359e9c4",
   "metadata": {},
   "outputs": [],
   "source": [
    "def convergence_rate(n,method,f,a,b,fprime=None):\n",
    "    def x_k(k):\n",
    "        return x_n(k,method,f,a,b,fprime=fprime)\n",
    "    \n",
    "    return np.log(abs((x_k(n+1)-x_k(n))/(x_k(n)-x_k(n-1)))) /\\\n",
    "            np.log(abs((x_k(n)-x_k(n-1))/(x_k(n-1)-x_k(n-2)))) "
   ]
  },
  {
   "cell_type": "code",
   "execution_count": 8,
   "id": "12881e00",
   "metadata": {},
   "outputs": [
    {
     "data": {
      "image/png": "[encoded data removed]",
      "text/plain": [
       "<Figure size 720x504 with 1 Axes>"
      ]
     },
     "metadata": {},
     "output_type": "display_data"
    }
   ],
   "source": [
    "a, b = 0, 10\n",
    "\n",
    "def f(x):\n",
    "    return x**5 - x**4 - x**2 - 1\n",
    "\n",
    "def g(x):\n",
    "    return 5 * x**4 - 4 * x**3 - 2 * x\n",
    "\n",
    "x = np.linspace(a,2,num=200)\n",
    "plt.plot(x,f(x),label='f(x)')\n",
    "plt.axhline(y=0, color='r', linestyle='-')\n",
    "plt.axvline(x=1.50, color='g', linestyle='--')\n",
    "plt.axvline(x=1.75, color='g', linestyle='--')\n",
    "plt.legend()\n",
    "plt.show()"
   ]
  },
  {
   "cell_type": "code",
   "execution_count": 11,
   "id": "981df143",
   "metadata": {},
   "outputs": [
    {
     "name": "stdout",
     "output_type": "stream",
     "text": [
      "root = (1.5704345703125, 13) with eps = 0.001, using dichotomy\n",
      "root = (1.570147312766808, 13) with eps = 0.001, using newton\n",
      "root = (1.570147525682899, 12) with eps = 0.001, using chord\n",
      "root = (1.5701478719711304, 23) with eps = 1e-06, using dichotomy\n",
      "root = (1.5701473121960543, 14) with eps = 1e-06, using newton\n",
      "root = (1.570147312220357, 13) with eps = 1e-06, using chord\n",
      "root = (1.570147312595509, 33) with eps = 1e-09, using dichotomy\n",
      "root = (1.5701473121960543, 14) with eps = 1e-09, using newton\n",
      "root = (1.5701473121960543, 14) with eps = 1e-09, using chord\n"
     ]
    }
   ],
   "source": [
    "epss = (1e-3,1e-6,1e-9)\n",
    "\n",
    "for eps in epss:\n",
    "    print(f\"root = {dichotomy(f,a,b,eps)} with eps = {eps}, using dichotomy\")\n",
    "    print(f\"root = {newton(f,a,b,eps,fprime=g)} with eps = {eps}, using newton\")\n",
    "    print(f\"root = {chord(f,a,b,eps)} with eps = {eps}, using chord\")"
   ]
  },
  {
   "cell_type": "code",
   "execution_count": 10,
   "id": "ce74a919",
   "metadata": {},
   "outputs": [
    {
     "name": "stdout",
     "output_type": "stream",
     "text": [
      "convergence rate for dichotomy = 1.0\n",
      "convergence rate for newton = 2.00090946621236\n",
      "convergence rate for chord = 1.619006893709128\n"
     ]
    }
   ],
   "source": [
    "print(f\"convergence rate for dichotomy = {convergence_rate(13,dichotomy,f,a,b)}\")\n",
    "print(f\"convergence rate for newton = {convergence_rate(13,newton,f,a,b,fprime=g)}\")\n",
    "print(f\"convergence rate for chord = {convergence_rate(13,chord,f,a,b)}\")"
   ]
  }
 ],
 "metadata": {
  "kernelspec": {
   "display_name": "Python 3 (ipykernel)",
   "language": "python",
   "name": "python3"
  },
  "language_info": {
   "codemirror_mode": {
    "name": "ipython",
    "version": 3
   },
   "file_extension": ".py",
   "mimetype": "text/x-python",
   "name": "python",
   "nbconvert_exporter": "python",
   "pygments_lexer": "ipython3",
   "version": "3.9.9"
  }
 },
 "nbformat": 4,
 "nbformat_minor": 5
}
